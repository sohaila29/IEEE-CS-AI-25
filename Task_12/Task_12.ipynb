{
 "cells": [
  {
   "cell_type": "markdown",
   "id": "c47ec761-0173-4c60-a1fd-59c826899789",
   "metadata": {},
   "source": [
    "## Import"
   ]
  },
  {
   "cell_type": "code",
   "execution_count": 2,
   "id": "4418e726-0262-431c-94d6-c188f6f1e1b9",
   "metadata": {},
   "outputs": [],
   "source": [
    "import numpy as np"
   ]
  },
  {
   "cell_type": "markdown",
   "id": "455d4f75-0259-4360-a243-e3744a25c4c0",
   "metadata": {},
   "source": [
    " ## 1. Create a 3x3 array that contains a diagonal of nines."
   ]
  },
  {
   "cell_type": "code",
   "execution_count": 48,
   "id": "271dd54f-a6e0-4566-b96c-1e41e4e55781",
   "metadata": {},
   "outputs": [
    {
     "data": {
      "text/plain": [
       "array([[9., 0., 0.],\n",
       "       [0., 9., 0.],\n",
       "       [0., 0., 9.]])"
      ]
     },
     "execution_count": 48,
     "metadata": {},
     "output_type": "execute_result"
    }
   ],
   "source": [
    "arr = np.identity(3)\n",
    "arr[[0,1,2],[0,1,2]] = 9\n",
    "arr"
   ]
  },
  {
   "cell_type": "code",
   "execution_count": 50,
   "id": "40b0e54e-f0c2-4228-a97b-f839d1afa0b7",
   "metadata": {},
   "outputs": [
    {
     "data": {
      "text/plain": [
       "array([[9., 0., 0.],\n",
       "       [0., 9., 0.],\n",
       "       [0., 0., 9.]])"
      ]
     },
     "execution_count": 50,
     "metadata": {},
     "output_type": "execute_result"
    }
   ],
   "source": [
    "arr = np.zeros((3,3))\n",
    "for i in range(3):\n",
    "    arr[i,i] = 9\n",
    "arr"
   ]
  },
  {
   "cell_type": "code",
   "execution_count": 52,
   "id": "40cff897-5e8f-49de-b494-33200e2cdd7f",
   "metadata": {},
   "outputs": [
    {
     "data": {
      "text/plain": [
       "array([[9., 0., 0.],\n",
       "       [0., 9., 0.],\n",
       "       [0., 0., 9.]])"
      ]
     },
     "execution_count": 52,
     "metadata": {},
     "output_type": "execute_result"
    }
   ],
   "source": [
    "a = np.zeros((3,3))\n",
    "np.fill_diagonal(a,9)\n",
    "a"
   ]
  },
  {
   "cell_type": "code",
   "execution_count": 54,
   "id": "0e64b6c0-6c85-4535-abb9-6482f79f6712",
   "metadata": {},
   "outputs": [
    {
     "data": {
      "text/plain": [
       "array([[9., 0., 0.],\n",
       "       [0., 9., 0.],\n",
       "       [0., 0., 9.]])"
      ]
     },
     "execution_count": 54,
     "metadata": {},
     "output_type": "execute_result"
    }
   ],
   "source": [
    "a = np.eye(3)* 9\n",
    "a"
   ]
  },
  {
   "cell_type": "code",
   "execution_count": 56,
   "id": "3eea6443-4477-4701-b40e-6c43f27e99b5",
   "metadata": {},
   "outputs": [
    {
     "data": {
      "text/plain": [
       "array([[9, 0, 0],\n",
       "       [0, 9, 0],\n",
       "       [0, 0, 9]])"
      ]
     },
     "execution_count": 56,
     "metadata": {},
     "output_type": "execute_result"
    }
   ],
   "source": [
    "a= np.diag([9,9,9])\n",
    "a"
   ]
  },
  {
   "cell_type": "markdown",
   "id": "a5ca6636-7101-403f-b260-2eba68c7c243",
   "metadata": {},
   "source": [
    "## 2. Create a 4 x 4 ndarray that only contains consecutive even numbers from 2 to 32 (inclusive) and use Boolean indexing to pick out the values that are within 1/2 standard deviations of the mean.\n"
   ]
  },
  {
   "cell_type": "code",
   "execution_count": 59,
   "id": "82886bef-a21b-4776-9184-d2602bf025e8",
   "metadata": {},
   "outputs": [
    {
     "data": {
      "text/plain": [
       "array([ 2,  4,  6,  8, 10, 12, 14, 16, 18, 20, 22, 24, 26, 28, 30, 32])"
      ]
     },
     "execution_count": 59,
     "metadata": {},
     "output_type": "execute_result"
    }
   ],
   "source": [
    "a = np.arange(2,34,2)\n",
    "a"
   ]
  },
  {
   "cell_type": "code",
   "execution_count": 35,
   "id": "3bf0b68e-da96-49e1-9ce5-eb5de543d7dd",
   "metadata": {},
   "outputs": [
    {
     "data": {
      "text/plain": [
       "array([[ 2,  4,  6,  8],\n",
       "       [10, 12, 14, 16],\n",
       "       [18, 20, 22, 24],\n",
       "       [26, 28, 30, 32]])"
      ]
     },
     "execution_count": 35,
     "metadata": {},
     "output_type": "execute_result"
    }
   ],
   "source": [
    "a.reshape(4,4)"
   ]
  },
  {
   "cell_type": "code",
   "execution_count": 63,
   "id": "a739156b-5724-4600-947a-eb049fe3b76b",
   "metadata": {},
   "outputs": [
    {
     "data": {
      "text/plain": [
       "17.0"
      ]
     },
     "execution_count": 63,
     "metadata": {},
     "output_type": "execute_result"
    }
   ],
   "source": [
    "mean = np.mean(a)\n",
    "mean"
   ]
  },
  {
   "cell_type": "code",
   "execution_count": 67,
   "id": "ebe49443-d5b7-4eac-ade7-fc156baf5f2a",
   "metadata": {},
   "outputs": [
    {
     "data": {
      "text/plain": [
       "9.219544457292887"
      ]
     },
     "execution_count": 67,
     "metadata": {},
     "output_type": "execute_result"
    }
   ],
   "source": [
    "STD = np.std(a)\n",
    "STD"
   ]
  },
  {
   "cell_type": "code",
   "execution_count": 77,
   "id": "ab60e036-e708-4450-9043-e7c2342bee3b",
   "metadata": {},
   "outputs": [
    {
     "data": {
      "text/plain": [
       "array([False, False, False, False, False, False,  True,  True,  True,\n",
       "        True,  True,  True,  True,  True,  True,  True])"
      ]
     },
     "execution_count": 77,
     "metadata": {},
     "output_type": "execute_result"
    },
    {
     "data": {
      "text/plain": [
       "array([ True,  True,  True,  True,  True,  True,  True,  True,  True,\n",
       "        True, False, False, False, False, False, False])"
      ]
     },
     "execution_count": 77,
     "metadata": {},
     "output_type": "execute_result"
    }
   ],
   "source": [
    "A = a > (mean - 0.5 * STD)\n",
    "B = a < (mean + 0.5 * STD)\n",
    "A\n",
    "B"
   ]
  },
  {
   "cell_type": "code",
   "execution_count": 95,
   "id": "50d511df-c849-47b7-94e7-aef6de9a86f0",
   "metadata": {},
   "outputs": [],
   "source": [
    "#C = np.where(A & B)\n",
    "#a[C]"
   ]
  },
  {
   "cell_type": "code",
   "execution_count": 93,
   "id": "7c2367a6-74a3-437e-a83f-92b77e2c6cf0",
   "metadata": {},
   "outputs": [
    {
     "data": {
      "text/plain": [
       "array([14, 16, 18, 20])"
      ]
     },
     "execution_count": 93,
     "metadata": {},
     "output_type": "execute_result"
    }
   ],
   "source": [
    "a[A&B]"
   ]
  },
  {
   "cell_type": "markdown",
   "id": "f04bcd4b-8fa9-46fd-96a9-410a2a4f4dbc",
   "metadata": {},
   "source": [
    "## 3. Create a 9x9 array that contains only zero of type int.\n"
   ]
  },
  {
   "cell_type": "code",
   "execution_count": 98,
   "id": "c15c6056-5bed-4429-9437-d7050c592530",
   "metadata": {},
   "outputs": [
    {
     "data": {
      "text/plain": [
       "array([[0, 0, 0, 0, 0, 0, 0, 0, 0],\n",
       "       [0, 0, 0, 0, 0, 0, 0, 0, 0],\n",
       "       [0, 0, 0, 0, 0, 0, 0, 0, 0],\n",
       "       [0, 0, 0, 0, 0, 0, 0, 0, 0],\n",
       "       [0, 0, 0, 0, 0, 0, 0, 0, 0],\n",
       "       [0, 0, 0, 0, 0, 0, 0, 0, 0],\n",
       "       [0, 0, 0, 0, 0, 0, 0, 0, 0],\n",
       "       [0, 0, 0, 0, 0, 0, 0, 0, 0],\n",
       "       [0, 0, 0, 0, 0, 0, 0, 0, 0]])"
      ]
     },
     "execution_count": 98,
     "metadata": {},
     "output_type": "execute_result"
    }
   ],
   "source": [
    "np.zeros((9,9), dtype = int)"
   ]
  },
  {
   "cell_type": "markdown",
   "id": "8e881891-0d3d-41b4-84d7-012b0487fdde",
   "metadata": {},
   "source": [
    "## 4. Ask the user for a number n. Then, use broadcasting to create a n x n ndarray that has its first column full of ones, its second column full of twos, its third column full of threes, etc…\n"
   ]
  },
  {
   "cell_type": "code",
   "execution_count": 130,
   "id": "a7c99e2b-b4dc-46f8-a9f6-8925400bc625",
   "metadata": {},
   "outputs": [
    {
     "name": "stdin",
     "output_type": "stream",
     "text": [
      "Enter an integer number n: 3\n"
     ]
    }
   ],
   "source": [
    "n = int(input(\"Enter an integer number n:\"))\n",
    "a= np.arange(1, n + 1)\n",
    "row = a[np.newaxis, :] "
   ]
  },
  {
   "cell_type": "code",
   "execution_count": 132,
   "id": "5b08f7f7-ef5e-429d-a5ee-3c7e1eb6dede",
   "metadata": {},
   "outputs": [],
   "source": [
    "col = np.ones((n,1))"
   ]
  },
  {
   "cell_type": "code",
   "execution_count": 134,
   "id": "526d71bb-84c7-4d49-b7dc-8f1f87b974bf",
   "metadata": {},
   "outputs": [
    {
     "data": {
      "text/plain": [
       "array([[1., 2., 3.],\n",
       "       [1., 2., 3.],\n",
       "       [1., 2., 3.]])"
      ]
     },
     "execution_count": 134,
     "metadata": {},
     "output_type": "execute_result"
    }
   ],
   "source": [
    "arr = row * col\n",
    "arr"
   ]
  },
  {
   "cell_type": "markdown",
   "id": "98dbf8a3-4bbd-4445-b766-e67cf993fdca",
   "metadata": {},
   "source": [
    "## 5- https://codeforces.com/contest/381/problem/A\n"
   ]
  },
  {
   "cell_type": "code",
   "execution_count": 145,
   "id": "c95546ff-31d4-4755-b037-2c3222b6a48f",
   "metadata": {},
   "outputs": [
    {
     "name": "stdin",
     "output_type": "stream",
     "text": [
      "Enter the number of cards n: 7\n",
      " 1 2 3 4 5 6 7\n"
     ]
    }
   ],
   "source": [
    "n = int(input(\"Enter the number of cards n:\"))\n",
    "cards = np.array(input().split(), dtype=int)\n",
    "Sere_Points = 0\n",
    "Dima_Points = 0\n",
    "turn = 0"
   ]
  },
  {
   "cell_type": "code",
   "execution_count": 147,
   "id": "33693c8a-a3de-48d3-a2b8-df1b3d2f48d3",
   "metadata": {},
   "outputs": [
    {
     "name": "stdout",
     "output_type": "stream",
     "text": [
      "16 12\n"
     ]
    }
   ],
   "source": [
    "while cards.size:\n",
    "    if cards[0]> cards[-1]:\n",
    "        taken = cards[0]\n",
    "        cards = cards[1:]\n",
    "    else:\n",
    "        taken = cards[-1]\n",
    "        cards = cards[:-1]\n",
    "\n",
    "    if turn %2 == 0:\n",
    "        Sere_Points += taken\n",
    "    else:\n",
    "        Dima_Points += taken\n",
    "    turn +=1\n",
    "\n",
    "print(Sere_Points, Dima_Points)\n",
    "        \n",
    "        "
   ]
  },
  {
   "cell_type": "markdown",
   "id": "773ce8b6-a308-4a2a-95fb-4b8e54bc451b",
   "metadata": {},
   "source": [
    "## 6- https://codeforces.com/contest/707/problem/A\n"
   ]
  },
  {
   "cell_type": "code",
   "execution_count": 176,
   "id": "b4c9c882-e7b1-4321-b018-048fbee6a4b8",
   "metadata": {},
   "outputs": [
    {
     "name": "stdin",
     "output_type": "stream",
     "text": [
      "Enter the size of the array n&m: 3 2\n"
     ]
    }
   ],
   "source": [
    "x = input(\"Enter the size of the array n&m:\").split()\n",
    "if len(x) != 2:\n",
    "    print(\"Please enter two integers separated by space.\")\n",
    "else:\n",
    "    n = int(x[0])\n",
    "    m = int(x[1])\n",
    "    "
   ]
  },
  {
   "cell_type": "code",
   "execution_count": 178,
   "id": "51d93ca7-e273-4d15-8fbf-d84b685d1be2",
   "metadata": {},
   "outputs": [
    {
     "name": "stdin",
     "output_type": "stream",
     "text": [
      "Enter ixels row by row: W W\n",
      "Enter ixels row by row: W W\n",
      "Enter ixels row by row: B B\n"
     ]
    },
    {
     "name": "stdout",
     "output_type": "stream",
     "text": [
      "#Black&White\n"
     ]
    }
   ],
   "source": [
    "pixels = []\n",
    "for _ in range(n):\n",
    "    row = input(\"Enter ixels row by row:\").split()\n",
    "    pixels.append(row)\n",
    "photo = np.array(pixels)\n",
    "if np.isin(photo, ['C', 'M', 'Y']).any():\n",
    "    print(\"#Color\")\n",
    "else:\n",
    "    print(\"#Black&White\")"
   ]
  },
  {
   "cell_type": "code",
   "execution_count": null,
   "id": "9390ca11-ee58-48ef-a081-562b7ee1e925",
   "metadata": {},
   "outputs": [],
   "source": []
  }
 ],
 "metadata": {
  "kernelspec": {
   "display_name": "Python 3 (ipykernel)",
   "language": "python",
   "name": "python3"
  },
  "language_info": {
   "codemirror_mode": {
    "name": "ipython",
    "version": 3
   },
   "file_extension": ".py",
   "mimetype": "text/x-python",
   "name": "python",
   "nbconvert_exporter": "python",
   "pygments_lexer": "ipython3",
   "version": "3.12.7"
  }
 },
 "nbformat": 4,
 "nbformat_minor": 5
}
